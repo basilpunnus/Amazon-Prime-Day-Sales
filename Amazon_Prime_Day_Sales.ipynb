{
 "cells": [
  {
   "cell_type": "code",
   "execution_count": 4,
   "id": "253d5946",
   "metadata": {},
   "outputs": [],
   "source": [
    "import matplotlib.pyplot as plt\n",
    "import statsmodels.api as sm\n",
    "import numpy as np\n",
    "import os\n",
    "from sklearn import linear_model \n",
    "from sklearn.linear_model import LinearRegression\n",
    "from sklearn import metrics \n",
    "import pandas as pd \n",
    "import seaborn as sns\n",
    "from sklearn.metrics import mean_squared_error, r2_score\n",
    "from sklearn.model_selection import train_test_split\n",
    "dataset=pd.read_csv(\"Amazon.csv\")"
   ]
  },
  {
   "cell_type": "code",
   "execution_count": 5,
   "id": "459ebf3a",
   "metadata": {},
   "outputs": [
    {
     "data": {
      "text/plain": [
       "Sr.No               0\n",
       "Youtube             0\n",
       "Facebook            0\n",
       "Instagram           0\n",
       "Expected profit     0\n",
       "dtype: int64"
      ]
     },
     "execution_count": 5,
     "metadata": {},
     "output_type": "execute_result"
    }
   ],
   "source": [
    "dataset.isnull().sum()   # checking for null values"
   ]
  },
  {
   "cell_type": "markdown",
   "id": "5c1d4703",
   "metadata": {},
   "source": [
    "# Simple linear regression model between advertising on Youtube and expected profit"
   ]
  },
  {
   "cell_type": "code",
   "execution_count": 7,
   "id": "9f817ce6",
   "metadata": {},
   "outputs": [
    {
     "name": "stdout",
     "output_type": "stream",
     "text": [
      "Coefficients:\n",
      " [0.04689391]\n",
      "Intercept:\n",
      " 7.2172161229788605\n",
      "Mean Squared error: 8.407\n",
      "Variance score: 0.680\n"
     ]
    }
   ],
   "source": [
    "# building a simple linear regression model to find relationship between spending on advertise and expected profit \n",
    "# splitting to independent(x) and dependent(y) variables \n",
    "\n",
    "x=dataset.iloc[:,1].values\n",
    "y=dataset.iloc[:,4].values\n",
    "\n",
    "# splitting data into training and testing so prediction does not overfit/underfit\n",
    "\n",
    "x_train, x_test, y_train, y_test = train_test_split(x,y, test_size = 1/3, random_state=0)\n",
    "\n",
    "#reshaping array to to 2D \n",
    "x_test=x_test.reshape(-1,1)\n",
    "x_train=x_train.reshape(-1,1)\n",
    "\n",
    "lin_reg=linear_model.LinearRegression()\n",
    "\n",
    "# fitting data into model\n",
    "lin_reg.fit(x_train,y_train)\n",
    "\n",
    "# prediction \n",
    "lin_reg_pred=lin_reg.predict(x_test)\n",
    "\n",
    "print(\"Coefficients:\\n\", lin_reg.coef_) \n",
    "print(\"Intercept:\\n\", lin_reg.intercept_)\n",
    "\n",
    "# mean squared error\n",
    "print(\"Mean Squared error: %.3f\"\n",
    "     % mean_squared_error(y_test, lin_reg_pred))\n",
    "\n",
    "# variance score 1 is perfect \n",
    "print(\"Variance score: %.3f\" % r2_score(y_test, lin_reg_pred))"
   ]
  },
  {
   "cell_type": "code",
   "execution_count": 8,
   "id": "0db865f0",
   "metadata": {},
   "outputs": [
    {
     "data": {
      "image/png": "[encoded data removed]",
      "text/plain": [
       "<Figure size 432x288 with 1 Axes>"
      ]
     },
     "metadata": {
      "needs_background": "light"
     },
     "output_type": "display_data"
    }
   ],
   "source": [
    "# plotting graph\n",
    "plt.scatter(x_test, y_test, color = 'red')\n",
    "plt.plot(x_test, lin_reg_pred, color = 'blue')\n",
    "plt.title('Returns on advertising on Youtube')\n",
    "plt.xlabel('Marketing allocation')\n",
    "plt.ylabel('Expected profit')\n",
    "plt.show()"
   ]
  },
  {
   "cell_type": "markdown",
   "id": "25b97859",
   "metadata": {},
   "source": [
    "# Simple linear regression model between advertising on Facebook and expected profit"
   ]
  },
  {
   "cell_type": "code",
   "execution_count": 9,
   "id": "d054ed3f",
   "metadata": {},
   "outputs": [
    {
     "name": "stdout",
     "output_type": "stream",
     "text": [
      "Coefficients:\n",
      " [0.21471157]\n",
      "Intercept:\n",
      " 9.239830906320718\n",
      "Mean Squared error: 21.359\n",
      "Variance score: 0.187\n"
     ]
    }
   ],
   "source": [
    "# building a simple linear regression model to find relationship between spending on advertise and expected profit \n",
    "# splitting to independent(x) and dependent(y) variables \n",
    "\n",
    "x=dataset.iloc[:,2].values\n",
    "y=dataset.iloc[:,4].values\n",
    "\n",
    "# splitting data into training and testing so prediction does not overfit/underfit\n",
    "\n",
    "x_train, x_test, y_train, y_test = train_test_split(x,y, test_size = 1/3, random_state=0)\n",
    "\n",
    "#reshaping array to to 2D \n",
    "x_test=x_test.reshape(-1,1)\n",
    "x_train=x_train.reshape(-1,1)\n",
    "\n",
    "lin_reg=linear_model.LinearRegression()\n",
    "\n",
    "# fitting data into model\n",
    "lin_reg.fit(x_train,y_train)\n",
    "\n",
    "# prediction \n",
    "lin_reg_pred=lin_reg.predict(x_test)\n",
    "\n",
    "print(\"Coefficients:\\n\", lin_reg.coef_) \n",
    "print(\"Intercept:\\n\", lin_reg.intercept_)\n",
    "\n",
    "# mean squared error\n",
    "print(\"Mean Squared error: %.3f\"\n",
    "     % mean_squared_error(y_test, lin_reg_pred))\n",
    "\n",
    "# variance score 1 is perfect \n",
    "print(\"Variance score: %.3f\" % r2_score(y_test, lin_reg_pred))"
   ]
  },
  {
   "cell_type": "code",
   "execution_count": 10,
   "id": "921bc3b2",
   "metadata": {},
   "outputs": [
    {
     "data": {
      "image/png": "[encoded data removed]",
      "text/plain": [
       "<Figure size 432x288 with 1 Axes>"
      ]
     },
     "metadata": {
      "needs_background": "light"
     },
     "output_type": "display_data"
    }
   ],
   "source": [
    "# plotting graph\n",
    "plt.scatter(x_test, y_test, color = 'red')\n",
    "plt.plot(x_test, lin_reg_pred, color = 'blue')\n",
    "plt.title('Returns on advertising on Facebook')\n",
    "plt.xlabel('Marketing allocation')\n",
    "plt.ylabel('Expected profit')\n",
    "plt.show()"
   ]
  },
  {
   "cell_type": "markdown",
   "id": "5175db7c",
   "metadata": {},
   "source": [
    "# Simple linear regression model between advertising on Instagram and expected profit"
   ]
  },
  {
   "cell_type": "code",
   "execution_count": 11,
   "id": "5b107cc3",
   "metadata": {},
   "outputs": [
    {
     "name": "stdout",
     "output_type": "stream",
     "text": [
      "Coefficients:\n",
      " [0.06733562]\n",
      "Intercept:\n",
      " 12.30751542398849\n",
      "Mean Squared error: 26.952\n",
      "Variance score: -0.026\n"
     ]
    }
   ],
   "source": [
    "x=dataset.iloc[:,3].values\n",
    "y=dataset.iloc[:,4].values\n",
    "\n",
    "# splitting data into training and testing so prediction does not overfit/underfit\n",
    "\n",
    "x_train, x_test, y_train, y_test = train_test_split(x,y, test_size = 1/3, random_state=0)\n",
    "\n",
    "#reshaping array to to 2D \n",
    "x_test=x_test.reshape(-1,1)\n",
    "x_train=x_train.reshape(-1,1)\n",
    "\n",
    "lin_reg=linear_model.LinearRegression()\n",
    "\n",
    "# fitting data into model\n",
    "lin_reg.fit(x_train,y_train)\n",
    "\n",
    "# prediction \n",
    "lin_reg_pred=lin_reg.predict(x_test)\n",
    "\n",
    "print(\"Coefficients:\\n\", lin_reg.coef_) \n",
    "print(\"Intercept:\\n\", lin_reg.intercept_)\n",
    "\n",
    "# mean squared error\n",
    "print(\"Mean Squared error: %.3f\"\n",
    "     % mean_squared_error(y_test, lin_reg_pred))\n",
    "\n",
    "# variance score 1 is perfect \n",
    "print(\"Variance score: %.3f\" % r2_score(y_test, lin_reg_pred))"
   ]
  },
  {
   "cell_type": "code",
   "execution_count": 12,
   "id": "a43c50b9",
   "metadata": {},
   "outputs": [
    {
     "data": {
      "image/png": "[encoded data removed]",
      "text/plain": [
       "<Figure size 432x288 with 1 Axes>"
      ]
     },
     "metadata": {
      "needs_background": "light"
     },
     "output_type": "display_data"
    }
   ],
   "source": [
    "# plotting graph\n",
    "plt.scatter(x_test, y_test, color = 'red')\n",
    "plt.plot(x_test, lin_reg_pred, color = 'blue')\n",
    "plt.title('Returns on advertising on Instagram')\n",
    "plt.xlabel('Marketing allocation')\n",
    "plt.ylabel('Expected profit')\n",
    "plt.show()"
   ]
  },
  {
   "cell_type": "markdown",
   "id": "1566b2c3",
   "metadata": {},
   "source": [
    "From the linear regression models between marketing on each platform and expected profits, the highest coefficient was observed when marketing on Facebook. The co efficient value was 0.21471157, meaning for every unit of marketing expenditure expected profits can be expected to rise by 0.21471157 units. However this model had a relatively high mean squared error (21.359) meaning the regression line is further from the data points than in the model for marketing on Youtube (8.407). However the coefficient for the regression model between youtube and expected profit is only 0.04689391, which is significantly lower than that of Facebook."
   ]
  },
  {
   "cell_type": "markdown",
   "id": "6c499c06",
   "metadata": {},
   "source": [
    "## Multiple linear regression model between advertising on Youtube + Facebook and expected profit"
   ]
  },
  {
   "cell_type": "code",
   "execution_count": 13,
   "id": "327636b3",
   "metadata": {},
   "outputs": [
    {
     "name": "stdout",
     "output_type": "stream",
     "text": [
      "[0.04575482 0.18799423]\n"
     ]
    }
   ],
   "source": [
    "# Setting up dependent and independent variables for multiple linear regression\n",
    "\n",
    "X = dataset[['Youtube', 'Facebook']]\n",
    "y = dataset['Expected profit ']\n",
    "\n",
    "regr = linear_model.LinearRegression()\n",
    "regr.fit(X, y)\n",
    "\n",
    "\n",
    "print(regr.coef_) # co efficients used to evaluate the read the regression model"
   ]
  },
  {
   "cell_type": "markdown",
   "id": "16320de9",
   "metadata": {},
   "source": [
    "The outputed array represents the coefficient values of marketing expenditure on Youtube and Facebook as follows-\n",
    "\n",
    "Youtube: 0.04575482 Facebook: 0.18799423\n",
    "\n",
    "These represent the model prediction that for every 1 unit of marketing expenditure on Youtube, profits can be expected to rise by 0.04575482. Simultaneously every unit of marketing expenditure on Facebook will cause expected profits to rise by 0.18799423. Therefore aggregate change in expected profit from marketing in these platforms simultaneously is (0.04575482+0.18799423) 0.23374905 units."
   ]
  },
  {
   "cell_type": "markdown",
   "id": "45d60212",
   "metadata": {},
   "source": [
    "## Multiple linear regression model between advertising on Youtube + Instagram and expected profit"
   ]
  },
  {
   "cell_type": "code",
   "execution_count": 14,
   "id": "ec8886b1",
   "metadata": {},
   "outputs": [
    {
     "name": "stdout",
     "output_type": "stream",
     "text": [
      "[0.04690121 0.04421942]\n"
     ]
    }
   ],
   "source": [
    "X = dataset[['Youtube', 'Instagram']]\n",
    "y = dataset['Expected profit ']\n",
    "\n",
    "regr = linear_model.LinearRegression()\n",
    "regr.fit(X, y)\n",
    "\n",
    "\n",
    "print(regr.coef_) # co efficients used to evaluate the read the regression model"
   ]
  },
  {
   "cell_type": "markdown",
   "id": "100a9070",
   "metadata": {},
   "source": [
    "The outputed array represents the coefficient values of marketing expenditure on Youtube and Instagram as follows-\n",
    "\n",
    "Youtube: 0.04690121 Instagram: 0.04421942\n",
    "\n",
    "These represent the model prediction that for every 1 unit of marketing expenditure on Youtube, profits can be expected to rise by 0.04690121. Simultaneously every unit of marketing expenditure on Instagram will cause expected profits to rise by 0.04421942. Therefore aggregate change in expected profit from marketing in these platforms simultaneously is (0.04690121+0.04421942) 0.091120630 units."
   ]
  },
  {
   "cell_type": "markdown",
   "id": "1e1d1962",
   "metadata": {},
   "source": [
    "## Multiple linear regression model between advertising on Facebook+ Youtube + Instagram and expected profit"
   ]
  },
  {
   "cell_type": "code",
   "execution_count": 15,
   "id": "60a9a461",
   "metadata": {},
   "outputs": [
    {
     "name": "stdout",
     "output_type": "stream",
     "text": [
      "[ 0.04576465  0.18853002 -0.00103749]\n"
     ]
    }
   ],
   "source": [
    "X = dataset[['Youtube','Facebook', 'Instagram']]\n",
    "y = dataset['Expected profit ']\n",
    "\n",
    "regr = linear_model.LinearRegression()\n",
    "regr.fit(X, y)\n",
    "\n",
    "print(regr.coef_) # co efficients used to evaluate the read the regression model"
   ]
  },
  {
   "cell_type": "markdown",
   "id": "e925d261",
   "metadata": {},
   "source": [
    "The outputed array represents the coefficient values of marketing expenditure on Youtube, Facebook and Instagram as follows-\n",
    "\n",
    "Youtube:0.04576465 Facebook: 0.18853002 Instagram: -0.00103749\n",
    "\n",
    "These represent the model prediction that for every 1 unit of marketing expenditure on Youtube, profits can be expected to rise by 0.0458. Simultaneously every unit of marketing expenditure on Facebook will cause expected profits to rise by 0.1885 however in this combination expenditure on Instagram will cause expected profits to fall by 0.001037 per unit of expense. Therefore aggregate change in expected profit from marketing in these platforms simultaneously is (0.0458+0.1885-0.001037) 0.233263 units."
   ]
  },
  {
   "cell_type": "markdown",
   "id": "e1c01c2d",
   "metadata": {},
   "source": [
    "## Suggested marketing strategy\n",
    "Based on the linear regression models, the best strategy for maximising expected profit appears to be marketing on Youtube and Facebook, with the coefficients of their regression model being- Youtube: 0.04575482 Facebook: 0.18799423 With an aggregate expected change in profits to be 0.23374905 per unit of marketing expenditure on each platform."
   ]
  }
 ],
 "metadata": {
  "kernelspec": {
   "display_name": "Python 3",
   "language": "python",
   "name": "python3"
  },
  "language_info": {
   "codemirror_mode": {
    "name": "ipython",
    "version": 3
   },
   "file_extension": ".py",
   "mimetype": "text/x-python",
   "name": "python",
   "nbconvert_exporter": "python",
   "pygments_lexer": "ipython3",
   "version": "3.8.8"
  }
 },
 "nbformat": 4,
 "nbformat_minor": 5
}
